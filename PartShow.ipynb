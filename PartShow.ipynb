{
  "nbformat": 4,
  "nbformat_minor": 0,
  "metadata": {
    "colab": {
      "name": "PartShow.ipynb",
      "provenance": [],
      "collapsed_sections": [],
      "authorship_tag": "ABX9TyMxSEUANcJyGtD4kb0lrjty",
      "include_colab_link": true
    },
    "kernelspec": {
      "name": "python3",
      "display_name": "Python 3"
    }
  },
  "cells": [
    {
      "cell_type": "markdown",
      "metadata": {
        "id": "view-in-github",
        "colab_type": "text"
      },
      "source": [
        "<a href=\"https://colab.research.google.com/github/MeaquaZZ/py-Visualization-/blob/main/PartShow.ipynb\" target=\"_parent\"><img src=\"https://colab.research.google.com/assets/colab-badge.svg\" alt=\"Open In Colab\"/></a>"
      ]
    },
    {
      "cell_type": "markdown",
      "metadata": {
        "id": "6cp70BSAZ2Wl"
      },
      "source": [
        "# **File input**"
      ]
    },
    {
      "cell_type": "code",
      "metadata": {
        "id": "8mhlzm7yX72I"
      },
      "source": [
        "from google.colab import files\n"
      ],
      "execution_count": 6,
      "outputs": []
    },
    {
      "cell_type": "code",
      "metadata": {
        "id": "dRBGKjOKYz3B"
      },
      "source": [
        "files.upload()"
      ],
      "execution_count": null,
      "outputs": []
    },
    {
      "cell_type": "markdown",
      "metadata": {
        "id": "F3SQmx6oc076"
      },
      "source": [
        "# **lib input**"
      ]
    },
    {
      "cell_type": "code",
      "metadata": {
        "id": "gSIeJy1XZGlj"
      },
      "source": [
        "!pip install hypernetx"
      ],
      "execution_count": null,
      "outputs": []
    },
    {
      "cell_type": "code",
      "metadata": {
        "id": "8AJZBsVwZlhp",
        "outputId": "20a6938e-6fd0-4383-d24e-a77e688db043",
        "colab": {
          "base_uri": "https://localhost:8080/"
        }
      },
      "source": [
        "!pip install networkx"
      ],
      "execution_count": 5,
      "outputs": [
        {
          "output_type": "stream",
          "text": [
            "Requirement already satisfied: networkx in /usr/local/lib/python3.6/dist-packages (2.5)\n",
            "Requirement already satisfied: decorator>=4.3.0 in /usr/local/lib/python3.6/dist-packages (from networkx) (4.4.2)\n"
          ],
          "name": "stdout"
        }
      ]
    },
    {
      "cell_type": "code",
      "metadata": {
        "id": "I0lHAC27Zq3L"
      },
      "source": [
        "import os, json\n",
        "import numpy as np\n",
        "import pandas as pd\n",
        "\n",
        "from networkx import fruchterman_reingold_layout as layout\n",
        "\n",
        "# GraphViz is arguably the best graph drawing tool, but it is old and tricky install.\n",
        "# Uncommenting the line below line will get you slightly better layouts, if you can get it working...\n",
        "# from networkx.drawing.nx_agraph import graphviz_layout as layout\n",
        "\n",
        "import matplotlib.pyplot as plt\n",
        "%matplotlib inline"
      ],
      "execution_count": null,
      "outputs": []
    },
    {
      "cell_type": "code",
      "metadata": {
        "id": "IkV8bK3EZr0q"
      },
      "source": [
        "%load_ext autoreload\n",
        "%autoreload 2\n",
        "import hypernetx as hnx"
      ],
      "execution_count": null,
      "outputs": []
    },
    {
      "cell_type": "markdown",
      "metadata": {
        "id": "yh5xUje3Zuyj"
      },
      "source": [
        "# **Data**\n"
      ]
    },
    {
      "cell_type": "code",
      "metadata": {
        "id": "Un1_G34yZtVa"
      },
      "source": [
        "scenes = {\n",
        "    0: ('FN', 'TH'),\n",
        "    1: ('TH', 'JV'),\n",
        "    2: ('BM', 'FN', 'JA'),\n",
        "    3: ('JV', 'JU', 'CH', 'BM'),\n",
        "    4: ('JU', 'CH', 'BR', 'CN', 'CC', 'JV', 'BM'),\n",
        "    5: ('TH', 'GP'),\n",
        "    6: ('GP', 'MP'),\n",
        "    7: ('MA', 'GP')\n",
        "}\n",
        "H = hnx.Hypergraph(scenes)"
      ],
      "execution_count": null,
      "outputs": []
    },
    {
      "cell_type": "markdown",
      "metadata": {
        "id": "D4iC5vYYaYcC"
      },
      "source": [
        "# **Visualization**\n",
        "Use the default drawing tool to visualize H and its dual. This renders an Euler diagram of the hypergraph where vertices are black dots and hyper edges are convex shapes containing the vertices belonging to the edge set. It is not always possible to render a \"correct\" Euler diagram for an arbitrary hypergraph. This technique will lead to false positives, cases where a hyper edge incorrectly contains a vertex not belonging to its set."
      ]
    },
    {
      "cell_type": "code",
      "metadata": {
        "id": "QpUSEGVVaUxi"
      },
      "source": [
        "hnx.drawing.draw(H)"
      ],
      "execution_count": null,
      "outputs": []
    },
    {
      "cell_type": "markdown",
      "metadata": {
        "id": "PENFnBrMbegN"
      },
      "source": [
        "# Basic Visualization Parameters\n",
        "We will now explore some of the basic visualization parameters that are special for hypergraph visualization\n",
        "* collapsing vertices and edges\n",
        "* label options"
      ]
    },
    {
      "cell_type": "markdown",
      "metadata": {
        "id": "ZrRq4tYaGHbw"
      },
      "source": [
        "## Collapsing Vertices\n",
        "By passing in a hypergraph with its nodes collapsed (using `H.collapse_nodes()`), we show nodes with identical hyper edge membership to be collapsed into a single dot. The drawing tool automatically detects if nodes and edges have been collapsed, and the dot is labeled with the list of nodes it represents. In this case, `{CN, CC, BR}` and `{CH, JU}` were collapsed. The size of the dot increases to reflect the number of members.\n",
        "\n",
        "We will use a consistent random state across the next few diagrams to make the layout consistent."
      ]
    },
    {
      "cell_type": "code",
      "metadata": {
        "id": "8T_fJr83blXy"
      },
      "source": [
        "kwargs = {'layout_kwargs': {'seed': 39}}\n",
        "\n",
        "hnx.drawing.draw(H.collapse_nodes(), **kwargs)"
      ],
      "execution_count": null,
      "outputs": []
    },
    {
      "cell_type": "markdown",
      "metadata": {
        "id": "bnNkjbNRGHbz"
      },
      "source": [
        "## Label options\n",
        "For anything but trivially small hypergraphs, the number of items in a collapsed element can be large, causing the label to be very long. You can set `with_node_counts=True` to mitigate this. This will replae node labels with counts where there is more than one element at that node.\n",
        "\n",
        "The collapsed nodes from above have been replaced with `x3` and `x2`, and the rest of the labels have disappeared."
      ]
    },
    {
      "cell_type": "code",
      "metadata": {
        "id": "cjRduv3Mbtf1"
      },
      "source": [
        "hnx.drawing.draw(H.collapse_nodes(), with_node_counts=True, **kwargs)"
      ],
      "execution_count": null,
      "outputs": []
    },
    {
      "cell_type": "markdown",
      "metadata": {
        "id": "yuuTzRHFGHb2"
      },
      "source": [
        "Similarly, hyper-edges can be collapsed and relabeled. We will use the dual to illustrate this."
      ]
    },
    {
      "cell_type": "code",
      "metadata": {
        "id": "dX7DDBV_b_xB"
      },
      "source": [
        "hnx.drawing.draw(H.dual().collapse_edges(), with_edge_counts=True)"
      ],
      "execution_count": null,
      "outputs": []
    },
    {
      "cell_type": "markdown",
      "metadata": {
        "id": "kizN_zZCGHb5"
      },
      "source": [
        "## Disabling labels\n",
        "If edge or node lables are a distraction, they can be turned off completely by passing in `with_edge_labels=False` or `with_node_labels=False`"
      ]
    },
    {
      "cell_type": "code",
      "metadata": {
        "id": "Or77rQBAcEol"
      },
      "source": [
        "hnx.drawing.draw(H, with_edge_labels=False, **kwargs)"
      ],
      "execution_count": null,
      "outputs": []
    },
    {
      "cell_type": "markdown",
      "metadata": {
        "id": "K1guYr4FGHcB"
      },
      "source": [
        "## Advanced Visualization Parameters\n",
        "Properties like colors and thickness can be adjusted. This allows style parameters to be passed directly to the corresponding Matplotlib function. The mapping is as follows:\n",
        "* `edges_kwargs` => `matplotlib.collections.PolyCollection`\n",
        "* `nodes_kwargs` => `matplotlib.collections.PolyCollection`\n",
        "* `edge_labels_kwargs` => `matplotlib.annotate`\n",
        "* `node_labels_kwargs` => `matplotlib.annotate`"
      ]
    },
    {
      "cell_type": "markdown",
      "metadata": {
        "id": "u7feYDpuGHcD"
      },
      "source": [
        "## Colors\n",
        "By default, we cycle through one of 10 unique colors for edges. This can be overridden using the `edges_kwargs` parameter. Here we adjust the linewidth, edge color, and face color."
      ]
    },
    {
      "cell_type": "code",
      "metadata": {
        "id": "xv3NcjOzcNTM"
      },
      "source": [
        "hnx.drawing.draw(H.collapse_nodes(),\n",
        "    edges_kwargs={\n",
        "        'linewidths': 2,\n",
        "        'edgecolors': 'brown',\n",
        "        'facecolors': 'white'\n",
        "    },\n",
        "    **kwargs\n",
        ")"
      ],
      "execution_count": null,
      "outputs": []
    },
    {
      "cell_type": "markdown",
      "metadata": {
        "id": "ucyAS4I6GHcH"
      },
      "source": [
        "## Node colors\n",
        "Pass an array of matplotlib colors to configure the individual colors of each node. The order of the array corresponds to the order returned by `H.__iter__()`.\n",
        "\n",
        "In this example, we make the nodes that "
      ]
    },
    {
      "cell_type": "code",
      "metadata": {
        "id": "_oWNrtPVcSvs"
      },
      "source": [
        "H_collapsed = H.collapse_nodes()\n",
        "\n",
        "hnx.drawing.draw(H_collapsed,\n",
        "                 edges_kwargs={\n",
        "                     'edgecolors': 'black'\n",
        "                 },\n",
        "                 nodes_kwargs={\n",
        "                     'facecolors': ['red' if len(v) > 1 else 'black' for v in H_collapsed]\n",
        "                 },\n",
        "                 **kwargs)"
      ],
      "execution_count": null,
      "outputs": []
    },
    {
      "cell_type": "markdown",
      "metadata": {
        "id": "wJj4fl7AGHcP"
      },
      "source": [
        "## Font\n",
        "Fontsize and other attributes can be set with the `node_labels_kwargs` and `edge_labels_kwargs` parameters. Here we make the font size large for illustrative purposes."
      ]
    },
    {
      "cell_type": "code",
      "metadata": {
        "id": "rOK9sEkWcn5o"
      },
      "source": [
        "hnx.drawing.draw(H.collapse_nodes(),\n",
        "    node_labels_kwargs={\n",
        "        'fontsize': 24\n",
        "    },\n",
        "    **kwargs\n",
        ")"
      ],
      "execution_count": null,
      "outputs": []
    },
    {
      "cell_type": "markdown",
      "metadata": {
        "id": "K5iytwicGHcS"
      },
      "source": [
        "Font attributes can be individually set by passing in a dictionary mapping nodes to values"
      ]
    },
    {
      "cell_type": "code",
      "metadata": {
        "id": "8rSBun1ocxCH"
      },
      "source": [
        "hnx.drawing.draw(H,\n",
        "    node_labels_kwargs={\n",
        "        'fontsize': {v: 36 if v == 'JV' else 12 for v in H}\n",
        "    },\n",
        "    **kwargs\n",
        ")"
      ],
      "execution_count": null,
      "outputs": []
    }
  ]
}